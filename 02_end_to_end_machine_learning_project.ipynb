{
  "nbformat": 4,
  "nbformat_minor": 0,
  "metadata": {
    "colab": {
      "name": "02_end_to_end_machine_learning_project.ipynb",
      "provenance": [],
      "authorship_tag": "ABX9TyNpa94smDYRkPTN0HJdRSp9",
      "include_colab_link": true
    },
    "kernelspec": {
      "name": "python3",
      "display_name": "Python 3"
    },
    "language_info": {
      "name": "python"
    }
  },
  "cells": [
    {
      "cell_type": "markdown",
      "metadata": {
        "id": "view-in-github",
        "colab_type": "text"
      },
      "source": [
        "<a href=\"https://colab.research.google.com/github/matsunori39/Hands-On-Machine-Learning-with-Scikit-Learn-Keras-and-TensorFlow-2nd-Edition/blob/main/02_end_to_end_machine_learning_project.ipynb\" target=\"_parent\"><img src=\"https://colab.research.google.com/assets/colab-badge.svg\" alt=\"Open In Colab\"/></a>"
      ]
    },
    {
      "cell_type": "markdown",
      "source": [
        "https://github.com/ageron/handson-ml2/blob/master/02_end_to_end_machine_learning_project.ipynb"
      ],
      "metadata": {
        "id": "YBbnh0wYH8Bb"
      }
    },
    {
      "cell_type": "code",
      "execution_count": 5,
      "metadata": {
        "id": "LLwZkUqyF5qN"
      },
      "outputs": [],
      "source": [
        "import os\n",
        "import tarfile\n",
        "import urllib.request"
      ]
    },
    {
      "cell_type": "code",
      "source": [
        "DOWNLOAD_ROOT = \"https://raw.githubusercontent.com/ageron/handson-ml2/master/\"\n",
        "HOUSING_PATH = os.path.join(\"datasets\", \"housing\")\n",
        "HOUSING_URL = DOWNLOAD_ROOT + \"datasets/housing/housing.tgz\""
      ],
      "metadata": {
        "id": "HaFTM8DuGHo_"
      },
      "execution_count": 9,
      "outputs": []
    },
    {
      "cell_type": "code",
      "source": [
        "def fetch_housing_data(housing_url=HOUSING_URL, housing_path=HOUSING_PATH):\n",
        "  os.makedirs(housing_path, exist_ok=True)\n",
        "  tgz_path = os.path.join(housing_path, \"housing.tgz\")\n",
        "  urllib.request.urlretrieve(housing_url, tgz_path)\n",
        "  housing_tgz = tarfile.open(tgz_path)\n",
        "  housing_tgz.extractall(path=housing_path)\n",
        "  housing_tgz.close()"
      ],
      "metadata": {
        "id": "vJ9gBbJ1Ggfu"
      },
      "execution_count": 10,
      "outputs": []
    },
    {
      "cell_type": "code",
      "source": [
        "fetch_housing_data()"
      ],
      "metadata": {
        "id": "bZqwX7POHH_d"
      },
      "execution_count": 11,
      "outputs": []
    }
  ]
}